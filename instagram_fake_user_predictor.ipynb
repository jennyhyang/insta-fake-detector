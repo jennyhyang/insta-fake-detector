{
 "cells": [
  {
   "cell_type": "code",
   "execution_count": 1,
   "metadata": {},
   "outputs": [],
   "source": [
    "import numpy as np\n",
    "import pandas as pd \n",
    "import matplotlib as plt"
   ]
  },
  {
   "cell_type": "code",
   "execution_count": 2,
   "metadata": {},
   "outputs": [],
   "source": [
    "file = \"user_fake_authentic_2class.csv\"\n",
    "df = pd.read_csv(file)\n",
    "# Credit to Kristo Radion Purba! Check out his paper:\n",
    "# K. R. Purba, D. Asirvatham and R. K. Murugesan,\n",
    "# \"Classification of instagram fake users using supervised machine learning algorithms,\"\n",
    "# International Journal of Electrical and Computer Engineering (IJECE),\n",
    "# vol. 10, no. 3, pp. 2763-2772, 2020."
   ]
  },
  {
   "cell_type": "code",
   "execution_count": 3,
   "metadata": {},
   "outputs": [
    {
     "data": {
      "text/html": [
       "<div>\n",
       "<style scoped>\n",
       "    .dataframe tbody tr th:only-of-type {\n",
       "        vertical-align: middle;\n",
       "    }\n",
       "\n",
       "    .dataframe tbody tr th {\n",
       "        vertical-align: top;\n",
       "    }\n",
       "\n",
       "    .dataframe thead th {\n",
       "        text-align: right;\n",
       "    }\n",
       "</style>\n",
       "<table border=\"1\" class=\"dataframe\">\n",
       "  <thead>\n",
       "    <tr style=\"text-align: right;\">\n",
       "      <th></th>\n",
       "      <th>pos</th>\n",
       "      <th>flw</th>\n",
       "      <th>flg</th>\n",
       "      <th>bl</th>\n",
       "      <th>pic</th>\n",
       "      <th>lin</th>\n",
       "      <th>cl</th>\n",
       "      <th>cz</th>\n",
       "      <th>ni</th>\n",
       "      <th>erl</th>\n",
       "      <th>erc</th>\n",
       "      <th>lt</th>\n",
       "      <th>hc</th>\n",
       "      <th>pr</th>\n",
       "      <th>fo</th>\n",
       "      <th>cs</th>\n",
       "      <th>pi</th>\n",
       "      <th>class</th>\n",
       "    </tr>\n",
       "  </thead>\n",
       "  <tbody>\n",
       "    <tr>\n",
       "      <th>65321</th>\n",
       "      <td>13</td>\n",
       "      <td>145</td>\n",
       "      <td>642</td>\n",
       "      <td>0</td>\n",
       "      <td>1</td>\n",
       "      <td>0</td>\n",
       "      <td>7</td>\n",
       "      <td>0.461538</td>\n",
       "      <td>0.000</td>\n",
       "      <td>14.270000</td>\n",
       "      <td>0.58</td>\n",
       "      <td>0.000</td>\n",
       "      <td>0.077</td>\n",
       "      <td>0.0</td>\n",
       "      <td>0.000</td>\n",
       "      <td>0.192308</td>\n",
       "      <td>1745.291260</td>\n",
       "      <td>r</td>\n",
       "    </tr>\n",
       "    <tr>\n",
       "      <th>65322</th>\n",
       "      <td>652</td>\n",
       "      <td>3000</td>\n",
       "      <td>1300</td>\n",
       "      <td>146</td>\n",
       "      <td>1</td>\n",
       "      <td>1</td>\n",
       "      <td>384</td>\n",
       "      <td>0.000000</td>\n",
       "      <td>0.389</td>\n",
       "      <td>8.520000</td>\n",
       "      <td>0.13</td>\n",
       "      <td>0.000</td>\n",
       "      <td>1.611</td>\n",
       "      <td>0.0</td>\n",
       "      <td>0.000</td>\n",
       "      <td>0.169917</td>\n",
       "      <td>54.629120</td>\n",
       "      <td>r</td>\n",
       "    </tr>\n",
       "    <tr>\n",
       "      <th>65323</th>\n",
       "      <td>1500</td>\n",
       "      <td>3700</td>\n",
       "      <td>3200</td>\n",
       "      <td>147</td>\n",
       "      <td>1</td>\n",
       "      <td>1</td>\n",
       "      <td>129</td>\n",
       "      <td>0.000000</td>\n",
       "      <td>0.111</td>\n",
       "      <td>9.390000</td>\n",
       "      <td>0.31</td>\n",
       "      <td>0.722</td>\n",
       "      <td>0.000</td>\n",
       "      <td>0.0</td>\n",
       "      <td>0.056</td>\n",
       "      <td>0.058908</td>\n",
       "      <td>129.802048</td>\n",
       "      <td>r</td>\n",
       "    </tr>\n",
       "    <tr>\n",
       "      <th>65324</th>\n",
       "      <td>329</td>\n",
       "      <td>1500</td>\n",
       "      <td>1800</td>\n",
       "      <td>218</td>\n",
       "      <td>1</td>\n",
       "      <td>1</td>\n",
       "      <td>290</td>\n",
       "      <td>0.055556</td>\n",
       "      <td>0.000</td>\n",
       "      <td>6.350000</td>\n",
       "      <td>0.26</td>\n",
       "      <td>0.222</td>\n",
       "      <td>0.500</td>\n",
       "      <td>0.0</td>\n",
       "      <td>0.000</td>\n",
       "      <td>0.103174</td>\n",
       "      <td>53.402840</td>\n",
       "      <td>r</td>\n",
       "    </tr>\n",
       "    <tr>\n",
       "      <th>65325</th>\n",
       "      <td>206</td>\n",
       "      <td>659</td>\n",
       "      <td>608</td>\n",
       "      <td>27</td>\n",
       "      <td>1</td>\n",
       "      <td>0</td>\n",
       "      <td>77</td>\n",
       "      <td>0.000000</td>\n",
       "      <td>0.333</td>\n",
       "      <td>25.549999</td>\n",
       "      <td>0.53</td>\n",
       "      <td>0.222</td>\n",
       "      <td>0.222</td>\n",
       "      <td>0.0</td>\n",
       "      <td>0.167</td>\n",
       "      <td>0.017505</td>\n",
       "      <td>604.981445</td>\n",
       "      <td>r</td>\n",
       "    </tr>\n",
       "  </tbody>\n",
       "</table>\n",
       "</div>"
      ],
      "text/plain": [
       "        pos   flw   flg   bl  pic  lin   cl        cz     ni        erl   erc  \\\n",
       "65321    13   145   642    0    1    0    7  0.461538  0.000  14.270000  0.58   \n",
       "65322   652  3000  1300  146    1    1  384  0.000000  0.389   8.520000  0.13   \n",
       "65323  1500  3700  3200  147    1    1  129  0.000000  0.111   9.390000  0.31   \n",
       "65324   329  1500  1800  218    1    1  290  0.055556  0.000   6.350000  0.26   \n",
       "65325   206   659   608   27    1    0   77  0.000000  0.333  25.549999  0.53   \n",
       "\n",
       "          lt     hc   pr     fo        cs           pi class  \n",
       "65321  0.000  0.077  0.0  0.000  0.192308  1745.291260     r  \n",
       "65322  0.000  1.611  0.0  0.000  0.169917    54.629120     r  \n",
       "65323  0.722  0.000  0.0  0.056  0.058908   129.802048     r  \n",
       "65324  0.222  0.500  0.0  0.000  0.103174    53.402840     r  \n",
       "65325  0.222  0.222  0.0  0.167  0.017505   604.981445     r  "
      ]
     },
     "execution_count": 3,
     "metadata": {},
     "output_type": "execute_result"
    }
   ],
   "source": [
    "df.tail()"
   ]
  },
  {
   "cell_type": "code",
   "execution_count": 4,
   "metadata": {},
   "outputs": [
    {
     "data": {
      "text/plain": [
       "(65326, 18)"
      ]
     },
     "execution_count": 4,
     "metadata": {},
     "output_type": "execute_result"
    }
   ],
   "source": [
    "df.shape"
   ]
  },
  {
   "cell_type": "code",
   "execution_count": 5,
   "metadata": {},
   "outputs": [
    {
     "data": {
      "text/plain": [
       "0"
      ]
     },
     "execution_count": 5,
     "metadata": {},
     "output_type": "execute_result"
    }
   ],
   "source": [
    "# counting number of NAs\n",
    "df.isna().sum().sum()"
   ]
  },
  {
   "cell_type": "code",
   "execution_count": 6,
   "metadata": {},
   "outputs": [],
   "source": [
    "# choosing columns to train on\n",
    "feature_cols = ['pos', 'flg', 'flw', 'bl', 'pic', \n",
    "                'lin', 'cl', 'ni', 'erl', 'erc', \n",
    "                'lt', 'hc', 'pi']\n",
    "label_col = \"class\""
   ]
  },
  {
   "cell_type": "code",
   "execution_count": 7,
   "metadata": {
    "scrolled": true
   },
   "outputs": [
    {
     "data": {
      "text/html": [
       "<div>\n",
       "<style scoped>\n",
       "    .dataframe tbody tr th:only-of-type {\n",
       "        vertical-align: middle;\n",
       "    }\n",
       "\n",
       "    .dataframe tbody tr th {\n",
       "        vertical-align: top;\n",
       "    }\n",
       "\n",
       "    .dataframe thead th {\n",
       "        text-align: right;\n",
       "    }\n",
       "</style>\n",
       "<table border=\"1\" class=\"dataframe\">\n",
       "  <thead>\n",
       "    <tr style=\"text-align: right;\">\n",
       "      <th></th>\n",
       "      <th>pos</th>\n",
       "      <th>flg</th>\n",
       "      <th>flw</th>\n",
       "      <th>bl</th>\n",
       "      <th>pic</th>\n",
       "      <th>lin</th>\n",
       "      <th>cl</th>\n",
       "      <th>ni</th>\n",
       "      <th>erl</th>\n",
       "      <th>erc</th>\n",
       "      <th>lt</th>\n",
       "      <th>hc</th>\n",
       "      <th>pi</th>\n",
       "    </tr>\n",
       "  </thead>\n",
       "  <tbody>\n",
       "    <tr>\n",
       "      <th>0</th>\n",
       "      <td>44</td>\n",
       "      <td>325</td>\n",
       "      <td>48</td>\n",
       "      <td>33</td>\n",
       "      <td>1</td>\n",
       "      <td>0</td>\n",
       "      <td>12</td>\n",
       "      <td>0.0</td>\n",
       "      <td>0.00</td>\n",
       "      <td>0.00</td>\n",
       "      <td>0.0</td>\n",
       "      <td>0.0</td>\n",
       "      <td>0.094985</td>\n",
       "    </tr>\n",
       "    <tr>\n",
       "      <th>1</th>\n",
       "      <td>10</td>\n",
       "      <td>321</td>\n",
       "      <td>66</td>\n",
       "      <td>150</td>\n",
       "      <td>1</td>\n",
       "      <td>0</td>\n",
       "      <td>213</td>\n",
       "      <td>1.0</td>\n",
       "      <td>14.39</td>\n",
       "      <td>1.97</td>\n",
       "      <td>0.0</td>\n",
       "      <td>1.5</td>\n",
       "      <td>230.412857</td>\n",
       "    </tr>\n",
       "    <tr>\n",
       "      <th>2</th>\n",
       "      <td>33</td>\n",
       "      <td>308</td>\n",
       "      <td>970</td>\n",
       "      <td>101</td>\n",
       "      <td>1</td>\n",
       "      <td>1</td>\n",
       "      <td>436</td>\n",
       "      <td>1.0</td>\n",
       "      <td>10.10</td>\n",
       "      <td>0.30</td>\n",
       "      <td>0.0</td>\n",
       "      <td>2.5</td>\n",
       "      <td>43.569939</td>\n",
       "    </tr>\n",
       "  </tbody>\n",
       "</table>\n",
       "</div>"
      ],
      "text/plain": [
       "   pos  flg  flw   bl  pic  lin   cl   ni    erl   erc   lt   hc          pi\n",
       "0   44  325   48   33    1    0   12  0.0   0.00  0.00  0.0  0.0    0.094985\n",
       "1   10  321   66  150    1    0  213  1.0  14.39  1.97  0.0  1.5  230.412857\n",
       "2   33  308  970  101    1    1  436  1.0  10.10  0.30  0.0  2.5   43.569939"
      ]
     },
     "execution_count": 7,
     "metadata": {},
     "output_type": "execute_result"
    }
   ],
   "source": [
    "# separating labels from data\n",
    "X = df[feature_cols]\n",
    "y = df[label_col]\n",
    "X.head(3)"
   ]
  },
  {
   "cell_type": "code",
   "execution_count": 8,
   "metadata": {},
   "outputs": [
    {
     "data": {
      "text/plain": [
       "65323    0\n",
       "65324    0\n",
       "65325    0\n",
       "Name: class, dtype: int64"
      ]
     },
     "execution_count": 8,
     "metadata": {},
     "output_type": "execute_result"
    }
   ],
   "source": [
    "# turning labels into zeros and ones\n",
    "def transform_label(label):\n",
    "    if label == 0 or label == 1:\n",
    "        return label\n",
    "    if label == \"f\":\n",
    "        return 1\n",
    "    elif label == \"r\":\n",
    "        return 0\n",
    "    return \"\"\n",
    "y = y.apply(transform_label)\n",
    "y.tail(3)"
   ]
  },
  {
   "cell_type": "code",
   "execution_count": 9,
   "metadata": {},
   "outputs": [],
   "source": [
    "# splitting the data into training and validation data sets\n",
    "from sklearn.model_selection import train_test_split\n",
    "train_X, val_X, train_y, val_y = train_test_split(X, y, random_state=1)"
   ]
  },
  {
   "cell_type": "code",
   "execution_count": 10,
   "metadata": {},
   "outputs": [],
   "source": [
    "# defining function to calculate error rate\n",
    "def error_rate(predictions, val_y):\n",
    "    err_count = sum(predictions != val_y)\n",
    "    return err_count/len(val_y)"
   ]
  },
  {
   "cell_type": "code",
   "execution_count": 11,
   "metadata": {},
   "outputs": [],
   "source": [
    "# fitting Random Forest Classifier\n",
    "from sklearn.ensemble import RandomForestClassifier\n",
    "\n",
    "n = 100\n",
    "depth = 10\n",
    "r = 1\n",
    "\n",
    "forest_model = RandomForestClassifier(n_estimators=n, \n",
    "                                      max_depth=depth,\n",
    "                                      random_state=r)\n",
    "forest_model.fit(train_X, train_y)\n",
    "\n",
    "forest_predictions = forest_model.predict(val_X)\n",
    "forest_train_predictions = forest_model.predict(train_X)"
   ]
  },
  {
   "cell_type": "code",
   "execution_count": 12,
   "metadata": {
    "scrolled": true
   },
   "outputs": [
    {
     "name": "stdout",
     "output_type": "stream",
     "text": [
      "Validation Error is 0.10923340680871908\n",
      "Train Error is 0.0979711801445075\n"
     ]
    }
   ],
   "source": [
    "print(\"Validation Error is\", error_rate(forest_predictions, val_y))\n",
    "print(\"Train Error is\", error_rate(forest_train_predictions, train_y))"
   ]
  },
  {
   "cell_type": "code",
   "execution_count": 13,
   "metadata": {},
   "outputs": [],
   "source": [
    "# fitting Logistic Regression Model\n",
    "from sklearn.linear_model import LogisticRegression\n",
    "\n",
    "r = 1\n",
    "\n",
    "logis_model = LogisticRegression(random_state=r)\n",
    "\n",
    "logis_model.fit(train_X, train_y)\n",
    "\n",
    "logis_predictions = logis_model.predict(val_X)\n",
    "logis_train_predictions = logis_model.predict(train_X)"
   ]
  },
  {
   "cell_type": "code",
   "execution_count": 14,
   "metadata": {},
   "outputs": [
    {
     "name": "stdout",
     "output_type": "stream",
     "text": [
      "Validation Error is 0.21148665197158953\n",
      "Train Error is 0.20965832550924604\n"
     ]
    }
   ],
   "source": [
    "print(\"Validation Error is\", error_rate(logis_predictions, val_y))\n",
    "print(\"Train Error is\", error_rate(logis_train_predictions, train_y))"
   ]
  },
  {
   "cell_type": "code",
   "execution_count": 15,
   "metadata": {},
   "outputs": [],
   "source": [
    "# fitting K Neighbors Classifier\n",
    "from sklearn.neighbors import KNeighborsClassifier\n",
    "\n",
    "k = 100\n",
    "\n",
    "kn_model = KNeighborsClassifier(n_neighbors = k)\n",
    "\n",
    "kn_model.fit(train_X, train_y)\n",
    "\n",
    "kn_predictions = kn_model.predict(val_X)\n",
    "kn_train_predictions = kn_model.predict(train_X)"
   ]
  },
  {
   "cell_type": "code",
   "execution_count": 16,
   "metadata": {},
   "outputs": [
    {
     "name": "stdout",
     "output_type": "stream",
     "text": [
      "Validation Error is 0.24093803575802106\n",
      "Train Error is 0.23470220843368575\n"
     ]
    }
   ],
   "source": [
    "print(\"Validation Error is\", error_rate(kn_predictions, val_y))\n",
    "print(\"Train Error is\", error_rate(kn_train_predictions, train_y))"
   ]
  },
  {
   "cell_type": "code",
   "execution_count": 17,
   "metadata": {},
   "outputs": [],
   "source": [
    "# fitting Ada Boost Classifier\n",
    "from sklearn.ensemble import AdaBoostClassifier\n",
    "\n",
    "n = 75\n",
    "lr = 1\n",
    "r = 1\n",
    "\n",
    "abc_model = AdaBoostClassifier(n_estimators=n, \n",
    "                               learning_rate=lr, \n",
    "                               random_state=r)\n",
    "\n",
    "abc_model.fit(train_X, train_y)\n",
    "\n",
    "abc_predictions = abc_model.predict(val_X)\n",
    "abc_train_predictions = abc_model.predict(train_X)"
   ]
  },
  {
   "cell_type": "code",
   "execution_count": 18,
   "metadata": {},
   "outputs": [
    {
     "name": "stdout",
     "output_type": "stream",
     "text": [
      "Validation Error is 0.13384766103355375\n",
      "Train Error is 0.13599624443809447\n"
     ]
    }
   ],
   "source": [
    "print(\"Validation Error is\", error_rate(abc_predictions, val_y))\n",
    "print(\"Train Error is\", error_rate(abc_train_predictions, train_y))"
   ]
  },
  {
   "cell_type": "code",
   "execution_count": 19,
   "metadata": {},
   "outputs": [],
   "source": [
    "# fitting Linear Regression Model\n",
    "from sklearn.linear_model import LinearRegression\n",
    "\n",
    "# using threshold to determine what predicted label is\n",
    "thresh = 0.5\n",
    "\n",
    "lr_model = LinearRegression()\n",
    "\n",
    "lr_model.fit(train_X, train_y)\n",
    "\n",
    "lr_predictions = lr_model.predict(val_X) >= thresh\n",
    "lr_train_predictions = lr_model.predict(train_X) >= thresh"
   ]
  },
  {
   "cell_type": "code",
   "execution_count": 20,
   "metadata": {},
   "outputs": [
    {
     "name": "stdout",
     "output_type": "stream",
     "text": [
      "Validation Error is 0.21130296350722508\n",
      "Train Error is 0.21265869290117156\n"
     ]
    }
   ],
   "source": [
    "print(\"Validation Error is\", error_rate(lr_predictions, val_y))\n",
    "print(\"Train Error is\", error_rate(lr_train_predictions, train_y))"
   ]
  },
  {
   "cell_type": "code",
   "execution_count": 21,
   "metadata": {},
   "outputs": [
    {
     "data": {
      "text/plain": [
       "'lin'"
      ]
     },
     "execution_count": 21,
     "metadata": {},
     "output_type": "execute_result"
    }
   ],
   "source": [
    "# finding most important feature in Random Forest Classifier Model\n",
    "n = len(forest_model.feature_importances_)\n",
    "indices = [i for i in range(n)]\n",
    "max_i = max(indices, key=forest_model.feature_importances_.__getitem__)\n",
    "feature_cols[max_i]"
   ]
  },
  {
   "cell_type": "code",
   "execution_count": 22,
   "metadata": {},
   "outputs": [
    {
     "data": {
      "text/plain": [
       "'pic'"
      ]
     },
     "execution_count": 22,
     "metadata": {},
     "output_type": "execute_result"
    }
   ],
   "source": [
    "# finding least important feature in Random Forest Classifier Model\n",
    "n = len(forest_model.feature_importances_)\n",
    "indices = [i for i in range(n)]\n",
    "min_i = min(indices, key=forest_model.feature_importances_.__getitem__)\n",
    "feature_cols[min_i]"
   ]
  },
  {
   "cell_type": "code",
   "execution_count": null,
   "metadata": {},
   "outputs": [],
   "source": []
  }
 ],
 "metadata": {
  "kernelspec": {
   "display_name": "Python 3",
   "language": "python",
   "name": "python3"
  },
  "language_info": {
   "codemirror_mode": {
    "name": "ipython",
    "version": 3
   },
   "file_extension": ".py",
   "mimetype": "text/x-python",
   "name": "python",
   "nbconvert_exporter": "python",
   "pygments_lexer": "ipython3",
   "version": "3.6.5"
  }
 },
 "nbformat": 4,
 "nbformat_minor": 2
}
